{
 "cells": [
  {
   "cell_type": "markdown",
   "id": "1d284bfc",
   "metadata": {},
   "source": [
    "<h1><center>My jupyter notebook <i>Not</i> on IBM Watson Studio</center></h1>"
   ]
  },
  {
   "cell_type": "markdown",
   "id": "d86ec924",
   "metadata": {},
   "source": [
    "Hi everyone, I'm <b>MG</b> (it actually pronunces as 'Maung').<br>\n",
    "I'm currently a student, apparently studying this <i>IBM Data Science</i> course on Coursera."
   ]
  },
  {
   "cell_type": "markdown",
   "id": "b7d6b489",
   "metadata": {},
   "source": [
    "<i>Specifically I'm more fascinated in <b>Machine Learning</b>, <b>Deep Learning</b>, <b>neural network</b> and <b>Artificial General Intelligence</b> rather than general Data Science itself. I've been amazed by seeing how fast these thechnologies have advanced and wonder how far they can take the humminity in not so far future. I just want to point out one of the latest developement of such technologies called <b>DALLE 2</b>, developed by <b>OpenAI</b>. If you haven't seen it by yourself I will definitely recommend it, just go and check it out by yourself, you will be so surprised. Here is the [link](https://youtu.be/U1cF9QCu1rQ) to a video posted on YouTube. </i>"
   ]
  },
  {
   "cell_type": "markdown",
   "id": "eb622be8",
   "metadata": {},
   "source": [
    "The reason I'm hosting this notebook on \"<b>GitHub</b>\" is that I'm having some problem using the IBM Watson Studio.<br>\n",
    "In the code cell below I'm gonna write some python using python ```for``` loop."
   ]
  },
  {
   "cell_type": "code",
   "execution_count": 10,
   "id": "2113b479",
   "metadata": {},
   "outputs": [
    {
     "name": "stdout",
     "output_type": "stream",
     "text": [
      "John\n",
      "Kera\n",
      "Chris\n",
      "Tracey\n",
      "Hanna\n",
      "Bruce\n"
     ]
    }
   ],
   "source": [
    "students = [\"John\", \"Kera\", 'Chris', 'Tracey', 'Hanna', 'Bruce']\n",
    "for x in students:\n",
    "    print(x)"
   ]
  },
  {
   "cell_type": "markdown",
   "id": "2d6827dd",
   "metadata": {},
   "source": [
    "### Horizontal Rule\n",
    "***\n",
    "\n",
    "### Bullet list\n",
    "- mango\n",
    "- pineapple\n",
    "- peach\n",
    "***\n",
    "\n",
    "### Images\n",
    "<img src=\"ss.png\" style=\"width:300px; margin-left:0; margin-right:auto;\">\n",
    "\n",
    "### Table\n",
    "|Liquor Brand Names|Types|Price(1L)|\n",
    "|---|---|---|\n",
    "|New Amsterdam|Vodka|```$25```|\n",
    "|Casamigos|Tequila|```$45```|\n",
    "|Macallan|Scotch Whisky|```$125```|\n",
    "\n",
    "\n"
   ]
  },
  {
   "cell_type": "code",
   "execution_count": null,
   "id": "e034ce04",
   "metadata": {},
   "outputs": [],
   "source": []
  }
 ],
 "metadata": {
  "kernelspec": {
   "display_name": "Python 3 (ipykernel)",
   "language": "python",
   "name": "python3"
  },
  "language_info": {
   "codemirror_mode": {
    "name": "ipython",
    "version": 3
   },
   "file_extension": ".py",
   "mimetype": "text/x-python",
   "name": "python",
   "nbconvert_exporter": "python",
   "pygments_lexer": "ipython3",
   "version": "3.9.7"
  }
 },
 "nbformat": 4,
 "nbformat_minor": 5
}
